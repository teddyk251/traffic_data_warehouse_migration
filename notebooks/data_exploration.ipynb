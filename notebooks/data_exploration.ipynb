{
 "cells": [
  {
   "cell_type": "code",
   "execution_count": 1,
   "metadata": {},
   "outputs": [],
   "source": [
    "import sys\n",
    "import os\n",
    "import pandas as pd\n",
    "sys.path.append(os.path.abspath(\"../scripts/\"))\n",
    "from datareader import DataReader\n",
    "import db_connector"
   ]
  },
  {
   "cell_type": "code",
   "execution_count": 2,
   "metadata": {},
   "outputs": [],
   "source": [
    "dr = DataReader()"
   ]
  },
  {
   "cell_type": "code",
   "execution_count": 3,
   "metadata": {},
   "outputs": [],
   "source": [
    "vehicle_df, trajectories_df = dr.extract_data('../data/20181030_d1_0830_0900.csv')"
   ]
  },
  {
   "cell_type": "code",
   "execution_count": 4,
   "metadata": {},
   "outputs": [
    {
     "data": {
      "text/html": [
       "<div>\n",
       "<style scoped>\n",
       "    .dataframe tbody tr th:only-of-type {\n",
       "        vertical-align: middle;\n",
       "    }\n",
       "\n",
       "    .dataframe tbody tr th {\n",
       "        vertical-align: top;\n",
       "    }\n",
       "\n",
       "    .dataframe thead th {\n",
       "        text-align: right;\n",
       "    }\n",
       "</style>\n",
       "<table border=\"1\" class=\"dataframe\">\n",
       "  <thead>\n",
       "    <tr style=\"text-align: right;\">\n",
       "      <th></th>\n",
       "      <th>uid</th>\n",
       "      <th>track_id</th>\n",
       "      <th>type</th>\n",
       "      <th>traveled_d</th>\n",
       "      <th>avg_speed</th>\n",
       "    </tr>\n",
       "  </thead>\n",
       "  <tbody>\n",
       "    <tr>\n",
       "      <th>0</th>\n",
       "      <td>20181030_d1_0830_0900_0</td>\n",
       "      <td>1</td>\n",
       "      <td>Motorcycle</td>\n",
       "      <td>437.90</td>\n",
       "      <td>38.263167</td>\n",
       "    </tr>\n",
       "    <tr>\n",
       "      <th>1</th>\n",
       "      <td>20181030_d1_0830_0900_1</td>\n",
       "      <td>2</td>\n",
       "      <td>Car</td>\n",
       "      <td>13.02</td>\n",
       "      <td>46.867711</td>\n",
       "    </tr>\n",
       "    <tr>\n",
       "      <th>2</th>\n",
       "      <td>20181030_d1_0830_0900_2</td>\n",
       "      <td>3</td>\n",
       "      <td>Car</td>\n",
       "      <td>30.57</td>\n",
       "      <td>45.849836</td>\n",
       "    </tr>\n",
       "    <tr>\n",
       "      <th>3</th>\n",
       "      <td>20181030_d1_0830_0900_3</td>\n",
       "      <td>4</td>\n",
       "      <td>Car</td>\n",
       "      <td>32.48</td>\n",
       "      <td>29.232894</td>\n",
       "    </tr>\n",
       "    <tr>\n",
       "      <th>4</th>\n",
       "      <td>20181030_d1_0830_0900_4</td>\n",
       "      <td>5</td>\n",
       "      <td>Heavy Vehicle</td>\n",
       "      <td>55.81</td>\n",
       "      <td>16.743931</td>\n",
       "    </tr>\n",
       "  </tbody>\n",
       "</table>\n",
       "</div>"
      ],
      "text/plain": [
       "                       uid  track_id           type  traveled_d  avg_speed\n",
       "0  20181030_d1_0830_0900_0         1     Motorcycle      437.90  38.263167\n",
       "1  20181030_d1_0830_0900_1         2            Car       13.02  46.867711\n",
       "2  20181030_d1_0830_0900_2         3            Car       30.57  45.849836\n",
       "3  20181030_d1_0830_0900_3         4            Car       32.48  29.232894\n",
       "4  20181030_d1_0830_0900_4         5  Heavy Vehicle       55.81  16.743931"
      ]
     },
     "execution_count": 4,
     "metadata": {},
     "output_type": "execute_result"
    }
   ],
   "source": [
    "vehicle_df.head()"
   ]
  },
  {
   "cell_type": "code",
   "execution_count": 5,
   "metadata": {},
   "outputs": [
    {
     "data": {
      "text/html": [
       "<div>\n",
       "<style scoped>\n",
       "    .dataframe tbody tr th:only-of-type {\n",
       "        vertical-align: middle;\n",
       "    }\n",
       "\n",
       "    .dataframe tbody tr th {\n",
       "        vertical-align: top;\n",
       "    }\n",
       "\n",
       "    .dataframe thead th {\n",
       "        text-align: right;\n",
       "    }\n",
       "</style>\n",
       "<table border=\"1\" class=\"dataframe\">\n",
       "  <thead>\n",
       "    <tr style=\"text-align: right;\">\n",
       "      <th></th>\n",
       "      <th>uid</th>\n",
       "      <th>lat</th>\n",
       "      <th>lon</th>\n",
       "      <th>speed</th>\n",
       "      <th>lon_acc</th>\n",
       "      <th>lat_acc</th>\n",
       "      <th>time</th>\n",
       "    </tr>\n",
       "  </thead>\n",
       "  <tbody>\n",
       "    <tr>\n",
       "      <th>0</th>\n",
       "      <td>20181030_d1_0830_0900_0</td>\n",
       "      <td>37.980460</td>\n",
       "      <td>23.735138</td>\n",
       "      <td>37.3105</td>\n",
       "      <td>0.1657</td>\n",
       "      <td>-0.0118</td>\n",
       "      <td>0.00</td>\n",
       "    </tr>\n",
       "    <tr>\n",
       "      <th>1</th>\n",
       "      <td>20181030_d1_0830_0900_0</td>\n",
       "      <td>37.980457</td>\n",
       "      <td>23.735141</td>\n",
       "      <td>37.3196</td>\n",
       "      <td>-0.0395</td>\n",
       "      <td>-0.0138</td>\n",
       "      <td>0.04</td>\n",
       "    </tr>\n",
       "    <tr>\n",
       "      <th>2</th>\n",
       "      <td>20181030_d1_0830_0900_0</td>\n",
       "      <td>37.980454</td>\n",
       "      <td>23.735143</td>\n",
       "      <td>37.3048</td>\n",
       "      <td>-0.1659</td>\n",
       "      <td>-0.0158</td>\n",
       "      <td>0.08</td>\n",
       "    </tr>\n",
       "    <tr>\n",
       "      <th>3</th>\n",
       "      <td>20181030_d1_0830_0900_0</td>\n",
       "      <td>37.980451</td>\n",
       "      <td>23.735146</td>\n",
       "      <td>37.2718</td>\n",
       "      <td>-0.2922</td>\n",
       "      <td>-0.0179</td>\n",
       "      <td>0.12</td>\n",
       "    </tr>\n",
       "    <tr>\n",
       "      <th>4</th>\n",
       "      <td>20181030_d1_0830_0900_0</td>\n",
       "      <td>37.980448</td>\n",
       "      <td>23.735149</td>\n",
       "      <td>37.2121</td>\n",
       "      <td>-0.5369</td>\n",
       "      <td>-0.0199</td>\n",
       "      <td>0.16</td>\n",
       "    </tr>\n",
       "  </tbody>\n",
       "</table>\n",
       "</div>"
      ],
      "text/plain": [
       "                       uid        lat        lon    speed  lon_acc  lat_acc  \\\n",
       "0  20181030_d1_0830_0900_0  37.980460  23.735138  37.3105   0.1657  -0.0118   \n",
       "1  20181030_d1_0830_0900_0  37.980457  23.735141  37.3196  -0.0395  -0.0138   \n",
       "2  20181030_d1_0830_0900_0  37.980454  23.735143  37.3048  -0.1659  -0.0158   \n",
       "3  20181030_d1_0830_0900_0  37.980451  23.735146  37.2718  -0.2922  -0.0179   \n",
       "4  20181030_d1_0830_0900_0  37.980448  23.735149  37.2121  -0.5369  -0.0199   \n",
       "\n",
       "   time  \n",
       "0  0.00  \n",
       "1  0.04  \n",
       "2  0.08  \n",
       "3  0.12  \n",
       "4  0.16  "
      ]
     },
     "execution_count": 5,
     "metadata": {},
     "output_type": "execute_result"
    }
   ],
   "source": [
    "trajectories_df.head()"
   ]
  },
  {
   "cell_type": "code",
   "execution_count": 7,
   "metadata": {},
   "outputs": [],
   "source": [
    "db_connector.insert_table(vehicle_df, 'vehicles')"
   ]
  },
  {
   "cell_type": "code",
   "execution_count": 8,
   "metadata": {},
   "outputs": [],
   "source": [
    "db_connector.insert_table(trajectories_df, 'trajectories')"
   ]
  },
  {
   "cell_type": "code",
   "execution_count": null,
   "metadata": {},
   "outputs": [],
   "source": []
  }
 ],
 "metadata": {
  "kernelspec": {
   "display_name": "Python 3.8.10 ('venv': venv)",
   "language": "python",
   "name": "python3"
  },
  "language_info": {
   "codemirror_mode": {
    "name": "ipython",
    "version": 3
   },
   "file_extension": ".py",
   "mimetype": "text/x-python",
   "name": "python",
   "nbconvert_exporter": "python",
   "pygments_lexer": "ipython3",
   "version": "3.8.10"
  },
  "orig_nbformat": 4,
  "vscode": {
   "interpreter": {
    "hash": "515045d52163ef12ac10429dcae6fb50a76e56940706c5a58d20613de96063fa"
   }
  }
 },
 "nbformat": 4,
 "nbformat_minor": 2
}
